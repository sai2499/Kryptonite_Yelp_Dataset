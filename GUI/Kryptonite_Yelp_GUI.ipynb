{
 "cells": [
  {
   "cell_type": "code",
   "execution_count": 92,
   "id": "5a117f7c",
   "metadata": {},
   "outputs": [
    {
     "name": "stdout",
     "output_type": "stream",
     "text": [
      "Overwriting app.py\n"
     ]
    }
   ],
   "source": [
    "%%writefile app.py\n",
    "from itertools import product\n",
    "import pandas as pd\n",
    "import psycopg2\n",
    "import streamlit as st\n",
    "import plotly.express as px\n",
    "#import pass_file\n",
    "import matplotlib.pyplot as plt\n",
    "import numpy as np\n",
    "import seaborn as sns\n",
    "\n",
    "\n",
    "from wordcloud import WordCloud\n",
    "\n",
    "import pandas as pd\n",
    "import numpy as np\n",
    "import matplotlib.pyplot as plt\n",
    "import seaborn as sns\n",
    "import nltk\n",
    "from nltk.tokenize import word_tokenize\n",
    "from nltk.corpus import stopwords\n",
    "from sklearn.model_selection import train_test_split\n",
    "from nltk.stem import SnowballStemmer\n",
    "import string\n",
    "from sklearn.feature_extraction.text import CountVectorizer\n",
    "from sklearn.linear_model import LogisticRegression\n",
    "from sklearn.metrics import accuracy_score\n",
    "from sklearn.naive_bayes import MultinomialNB\n",
    "from sklearn.svm import SVC\n",
    "from sklearn.metrics import confusion_matrix\n",
    "import nltk\n",
    "nltk.download('punkt')\n",
    "nltk.download('stopwords')\n",
    "\n",
    "\n",
    "\n",
    "\n"
   ]
  },
  {
   "cell_type": "code",
   "execution_count": 93,
   "id": "f70ae40a",
   "metadata": {},
   "outputs": [
    {
     "name": "stdout",
     "output_type": "stream",
     "text": [
      "Appending to app.py\n"
     ]
    }
   ],
   "source": [
    "%%writefile -a app.py\n",
    "\n",
    "def get_data(cursor, query):\n",
    "    cursor.execute(query)\n",
    "    data = cursor.fetchall()\n",
    "    df = pd.DataFrame(data)\n",
    "    return df"
   ]
  },
  {
   "cell_type": "code",
   "execution_count": 94,
   "id": "9634dca7",
   "metadata": {},
   "outputs": [
    {
     "name": "stdout",
     "output_type": "stream",
     "text": [
      "Appending to app.py\n"
     ]
    }
   ],
   "source": [
    "%%writefile -a app.py\n",
    "\n",
    "st.title('Summary Dashboard')\n"
   ]
  },
  {
   "cell_type": "code",
   "execution_count": 95,
   "id": "ac7f298a",
   "metadata": {},
   "outputs": [
    {
     "name": "stdout",
     "output_type": "stream",
     "text": [
      "Appending to app.py\n"
     ]
    }
   ],
   "source": [
    "%%writefile -a app.py\n",
    "#establishing the connection\n",
    "conn = psycopg2.connect(database = \"Yelp\", user = \"postgres\", password = \"root\", host = \"127.0.0.1\", port = \"5432\")\n",
    "print (\"Opened database successfully\")\n",
    "#Creating a cursor object using the cursor() method\n",
    "cursor = conn.cursor()"
   ]
  },
  {
   "cell_type": "code",
   "execution_count": 96,
   "id": "5d436911",
   "metadata": {},
   "outputs": [
    {
     "name": "stdout",
     "output_type": "stream",
     "text": [
      "Appending to app.py\n"
     ]
    }
   ],
   "source": [
    "%%writefile -a app.py\n",
    "class BubbleChart:\n",
    "    def __init__(self, area, bubble_spacing=0):\n",
    "        \"\"\"\n",
    "        Setup for bubble collapse.\n",
    "\n",
    "        Parameters\n",
    "        ----------\n",
    "        area : array-like\n",
    "            Area of the bubbles.\n",
    "        bubble_spacing : float, default: 0\n",
    "            Minimal spacing between bubbles after collapsing.\n",
    "\n",
    "        Notes\n",
    "        -----\n",
    "        If \"area\" is sorted, the results might look weird.\n",
    "        \"\"\"\n",
    "        area = np.asarray(area)\n",
    "        r = np.sqrt(area / np.pi)\n",
    "\n",
    "        self.bubble_spacing = bubble_spacing\n",
    "        self.bubbles = np.ones((len(area), 4))\n",
    "        self.bubbles[:, 2] = r\n",
    "        self.bubbles[:, 3] = area\n",
    "        self.maxstep = 2 * self.bubbles[:, 2].max() + self.bubble_spacing\n",
    "        self.step_dist = self.maxstep / 2\n",
    "\n",
    "        # calculate initial grid layout for bubbles\n",
    "        length = np.ceil(np.sqrt(len(self.bubbles)))\n",
    "        grid = np.arange(length) * self.maxstep\n",
    "        gx, gy = np.meshgrid(grid, grid)\n",
    "        self.bubbles[:, 0] = gx.flatten()[:len(self.bubbles)]\n",
    "        self.bubbles[:, 1] = gy.flatten()[:len(self.bubbles)]\n",
    "\n",
    "        self.com = self.center_of_mass()\n",
    "\n",
    "    def center_of_mass(self):\n",
    "        return np.average(\n",
    "            self.bubbles[:, :2], axis=0, weights=self.bubbles[:, 3]\n",
    "        )\n",
    "\n",
    "    def center_distance(self, bubble, bubbles):\n",
    "        return np.hypot(bubble[0] - bubbles[:, 0],\n",
    "                        bubble[1] - bubbles[:, 1])\n",
    "\n",
    "    def outline_distance(self, bubble, bubbles):\n",
    "        center_distance = self.center_distance(bubble, bubbles)\n",
    "        return center_distance - bubble[2] - \\\n",
    "            bubbles[:, 2] - self.bubble_spacing\n",
    "\n",
    "    def check_collisions(self, bubble, bubbles):\n",
    "        distance = self.outline_distance(bubble, bubbles)\n",
    "        return len(distance[distance < 0])\n",
    "\n",
    "    def collides_with(self, bubble, bubbles):\n",
    "        distance = self.outline_distance(bubble, bubbles)\n",
    "        idx_min = np.argmin(distance)\n",
    "        return idx_min if type(idx_min) == np.ndarray else [idx_min]\n",
    "\n",
    "    def collapse(self, n_iterations=50):\n",
    "        \"\"\"\n",
    "        Move bubbles to the center of mass.\n",
    "\n",
    "        Parameters\n",
    "        ----------\n",
    "        n_iterations : int, default: 50\n",
    "            Number of moves to perform.\n",
    "        \"\"\"\n",
    "        for _i in range(n_iterations):\n",
    "            moves = 0\n",
    "            for i in range(len(self.bubbles)):\n",
    "                rest_bub = np.delete(self.bubbles, i, 0)\n",
    "                # try to move directly towards the center of mass\n",
    "                # direction vector from bubble to the center of mass\n",
    "                dir_vec = self.com - self.bubbles[i, :2]\n",
    "\n",
    "                # shorten direction vector to have length of 1\n",
    "                dir_vec = dir_vec / np.sqrt(dir_vec.dot(dir_vec))\n",
    "\n",
    "                # calculate new bubble position\n",
    "                new_point = self.bubbles[i, :2] + dir_vec * self.step_dist\n",
    "                new_bubble = np.append(new_point, self.bubbles[i, 2:4])\n",
    "\n",
    "                # check whether new bubble collides with other bubbles\n",
    "                if not self.check_collisions(new_bubble, rest_bub):\n",
    "                    self.bubbles[i, :] = new_bubble\n",
    "                    self.com = self.center_of_mass()\n",
    "                    moves += 1\n",
    "                else:\n",
    "                    # try to move around a bubble that you collide with\n",
    "                    # find colliding bubble\n",
    "                    for colliding in self.collides_with(new_bubble, rest_bub):\n",
    "                        # calculate direction vector\n",
    "                        dir_vec = rest_bub[colliding, :2] - self.bubbles[i, :2]\n",
    "                        dir_vec = dir_vec / np.sqrt(dir_vec.dot(dir_vec))\n",
    "                        # calculate orthogonal vector\n",
    "                        orth = np.array([dir_vec[1], -dir_vec[0]])\n",
    "                        # test which direction to go\n",
    "                        new_point1 = (self.bubbles[i, :2] + orth *\n",
    "                                      self.step_dist)\n",
    "                        new_point2 = (self.bubbles[i, :2] - orth *\n",
    "                                      self.step_dist)\n",
    "                        dist1 = self.center_distance(\n",
    "                            self.com, np.array([new_point1]))\n",
    "                        dist2 = self.center_distance(\n",
    "                            self.com, np.array([new_point2]))\n",
    "                        new_point = new_point1 if dist1 < dist2 else new_point2\n",
    "                        new_bubble = np.append(new_point, self.bubbles[i, 2:4])\n",
    "                        if not self.check_collisions(new_bubble, rest_bub):\n",
    "                            self.bubbles[i, :] = new_bubble\n",
    "                            self.com = self.center_of_mass()\n",
    "\n",
    "            if moves / len(self.bubbles) < 0.1:\n",
    "                self.step_dist = self.step_dist / 2\n",
    "\n",
    "    def plot(self, ax, labels,colors):\n",
    "        \"\"\"\n",
    "        Draw the bubble plot.\n",
    "\n",
    "        Parameters\n",
    "        ----------\n",
    "        ax : matplotlib.axes.Axes\n",
    "        labels : list\n",
    "            Labels of the bubbles.\n",
    "        colors : list\n",
    "            Colors of the bubbles.\n",
    "        \"\"\"\n",
    "        for i in range(len(self.bubbles)):\n",
    "            circ = plt.Circle(\n",
    "                self.bubbles[i, :2], self.bubbles[i, 2], color=colors[i])\n",
    "            ax.add_patch(circ)\n",
    "            ax.text(*self.bubbles[i, :2], labels[i],\n",
    "                    horizontalalignment='center', verticalalignment='center')"
   ]
  },
  {
   "cell_type": "code",
   "execution_count": 97,
   "id": "2399a850",
   "metadata": {},
   "outputs": [
    {
     "name": "stdout",
     "output_type": "stream",
     "text": [
      "Appending to app.py\n"
     ]
    }
   ],
   "source": [
    "%%writefile -a app.py\n",
    "import matplotlib.colors as mcolors\n",
    "colors = []\n",
    "for i in mcolors.CSS4_COLORS:\n",
    "    colors.append(i)\n",
    "    "
   ]
  },
  {
   "cell_type": "code",
   "execution_count": 98,
   "id": "32738042",
   "metadata": {},
   "outputs": [
    {
     "name": "stdout",
     "output_type": "stream",
     "text": [
      "Appending to app.py\n"
     ]
    }
   ],
   "source": [
    "%%writefile -a app.py\n",
    "\n",
    "'''\n",
    "# Max business indexed \n",
    "Plot a bubble plot of states with the most businesses indexed on Yelp data\n",
    "\n",
    "'''\n",
    "\n",
    "data = [10,20,30,40,50,60,70,80,90,100]\n",
    "df_n = pd.DataFrame(data, columns=['Numbers'])\n",
    "\n",
    "top_n = st.selectbox('Choose top \"n\" Cities', df_n,key=1)\n",
    "top_n_cities_query = '''SELECT \n",
    "    state, city, COUNT(*) AS business_count\n",
    "FROM\n",
    "    yelp_business\n",
    "GROUP BY state , city\n",
    "ORDER BY business_count DESC\n",
    "LIMIT {};'''.format(top_n)\n",
    "cursor.execute(top_n_cities_query)\n",
    "data = cursor.fetchall()\n",
    "column_names = [\"state\",\"city\",\"count\"]\n",
    "top_n_cities = pd.DataFrame(data,columns = column_names)\n",
    "\n",
    "\n",
    "top_n_cities['count'] = top_n_cities['count'].apply(pd.to_numeric)\n",
    "top_n_cities['city'] = top_n_cities['city'].astype(str)\n",
    "top_n_cities['state'] = top_n_cities['state'].astype(str)\n",
    "\n",
    "\n",
    "bubble_chart = BubbleChart(area=top_n_cities['count'], bubble_spacing=0.1)\n",
    "bubble_chart.collapse()\n",
    "\n",
    "fig, ax = plt.subplots(subplot_kw=dict(aspect=\"equal\"))\n",
    "fig.set_size_inches(9, 13, forward=True)\n",
    "bubble_chart.plot(ax, top_n_cities['state'],colors)\n",
    "ax.axis(\"off\")\n",
    "ax.relim()\n",
    "ax.autoscale_view()\n",
    "st.pyplot(fig)\n"
   ]
  },
  {
   "cell_type": "code",
   "execution_count": 99,
   "id": "7aa07a0e",
   "metadata": {},
   "outputs": [
    {
     "name": "stdout",
     "output_type": "stream",
     "text": [
      "Appending to app.py\n"
     ]
    }
   ],
   "source": [
    "%%writefile -a app.py\n",
    "import folium\n",
    "from streamlit_folium import folium_static \n",
    "\n",
    "'''\n",
    "# Map\n",
    "Get a locations of a category of business in a city on a map\n",
    "\n",
    "'''\n",
    "#list of states and city with drop down for business map\n",
    "all_state_query = \"select distinct state from yelp_business\"\n",
    "cursor.execute(all_state_query)\n",
    "data = cursor.fetchall()\n",
    "column_names = [\"state\"]\n",
    "all_state = pd.DataFrame(data,columns = column_names)\n",
    "state_select = st.selectbox('Choose state', all_state,key=11)\n",
    "if state_select != \"\":\n",
    "    #st.write('You selected ' + state_select)\n",
    "    state_select =  \"\\'\" +state_select + \"\\'\" \n",
    "    state_city_query = \"select distinct city from yelp_business where state = {}\".format(state_select)\n",
    "    cursor.execute(state_city_query)\n",
    "    data = cursor.fetchall()\n",
    "    column_names = [\"city\"]\n",
    "    state_city = pd.DataFrame(data,columns = column_names)\n",
    "    #st.write('state city ' + state_city_query)\n",
    "    city_select = st.selectbox('Choose city', state_city,key=12)\n",
    "    #st.write('city selected ' + city_select)\n",
    "    city_select =  \"\\'\" +city_select + \"\\'\"\n",
    "    if city_select != \"\" :\n",
    "        city_caterories_query = '''\n",
    "        SELECT distinct C.categories\n",
    "        FROM yelp_business as B INNER JOIN yelp_categories as C \n",
    "        ON B.business_id = C.business_id where B.city = {} order by C.categories limit 20;'''.format(city_select)\n",
    "        cursor.execute(city_caterories_query)\n",
    "        data = cursor.fetchall()\n",
    "        column_names = [\"categories\"]\n",
    "        city_caterories = pd.DataFrame(data,columns = column_names)\n",
    "        #st.write('caterogies ' + city_caterories)\n",
    "        city_category_select = st.selectbox('Choose category', city_caterories,key=13)\n",
    "        #st.write('category selected ' + city_category_select)\n",
    "        city_category_select =  \"\\'\" +city_category_select + \"\\'\"\n",
    "\n",
    "        if city_category_select !=\"\":\n",
    "            get_category = '''\n",
    "            SELECT B.name, B.latitude, B.longitude, C.categories,B.city,B.state,B.review_count\n",
    "            FROM yelp_business as B INNER JOIN yelp_categories as C \n",
    "            ON B.business_id = C.business_id where B.city = {0} and C.categories = {1} ;\n",
    "            '''.format(city_select,city_category_select)\n",
    "            cursor.execute(get_category)\n",
    "            data = cursor.fetchall()\n",
    "            column_names = [\"name\",\"latitude\",\"longitude\",\"categories\",\"city\",\"state\",\"review_count\"]\n",
    "            all_categories_df = pd.DataFrame(data,columns = column_names)\n",
    "            #st.write(all_categories_df)\n",
    "            \n",
    "            map_cat = folium.Map(location=[all_categories_df.latitude.mean(), all_categories_df.longitude.mean()], zoom_start=12,control_scale = True,prefer_canvas=True)\n",
    "            folium.TileLayer('cartodbpositron').add_to(map_cat)\n",
    "            for index, location_info in all_categories_df.iterrows():\n",
    "                info = 'name: {}, review: {}'.format(location_info[\"name\"].strip('\\\"'), location_info[\"review_count\"])\n",
    "\n",
    "                folium.Marker([location_info[\"latitude\"], location_info[\"longitude\"]], popup=info).add_to(map_cat)\n",
    "            \n",
    "            st.title('Map of ' + city_category_select + 'in' +  city_select)\n",
    "            folium_static(map_cat)\n",
    "            \n",
    "#             st.map(all_categories_df)\n",
    "\n",
    "\n",
    "\n",
    "\n",
    "\n"
   ]
  },
  {
   "cell_type": "code",
   "execution_count": 100,
   "id": "d3373d95",
   "metadata": {},
   "outputs": [
    {
     "name": "stdout",
     "output_type": "stream",
     "text": [
      "Appending to app.py\n"
     ]
    }
   ],
   "source": [
    "%%writefile -a app.py\n",
    "\n",
    "def extract_positive(positive_reviews):\n",
    "    global positive\n",
    "    words = [word.lower() for word in word_tokenize(positive_reviews) if word.lower() not in stopwords.words(\"english\") and word.lower().isalpha()]\n",
    "    positive=positive+words"
   ]
  },
  {
   "cell_type": "code",
   "execution_count": 101,
   "id": "e35515fb",
   "metadata": {},
   "outputs": [
    {
     "name": "stdout",
     "output_type": "stream",
     "text": [
      "Appending to app.py\n"
     ]
    }
   ],
   "source": [
    "%%writefile -a app.py\n",
    "\n",
    "def extract_negative(negative_reviews):\n",
    "    global negative\n",
    "    words = [word.lower() for word in word_tokenize(negative_reviews) if word.lower() not in stopwords.words(\"english\") and word.lower().isalpha()]\n",
    "    negative=negative+words"
   ]
  },
  {
   "cell_type": "code",
   "execution_count": 102,
   "id": "72b2a608",
   "metadata": {},
   "outputs": [
    {
     "name": "stdout",
     "output_type": "stream",
     "text": [
      "Appending to app.py\n"
     ]
    }
   ],
   "source": [
    "%%writefile -a app.py\n",
    "'''\n",
    "# Reviews\n",
    "Get a list of reviews for business of a category in a city\n",
    "\n",
    "\n",
    "'''\n",
    "#Get stars and review\n",
    "#st.write(\"Stars and Reviews\")\n",
    "#list of states and city with drop down for business map\n",
    "all_state_query = \"select distinct state from yelp_business\"\n",
    "cursor.execute(all_state_query)\n",
    "data = cursor.fetchall()\n",
    "column_names = [\"state\"]\n",
    "all_state = pd.DataFrame(data,columns = column_names)\n",
    "state_select = st.selectbox('Choose state', all_state,key=21)\n",
    "if state_select != \"\":\n",
    "    #st.write('You selected ' + state_select)\n",
    "    state_select =  \"\\'\" +state_select + \"\\'\" \n",
    "    state_city_query = \"select distinct city from yelp_business where state = {}\".format(state_select)\n",
    "    cursor.execute(state_city_query)\n",
    "    data = cursor.fetchall()\n",
    "    column_names = [\"city\"]\n",
    "    state_city = pd.DataFrame(data,columns = column_names)\n",
    "    #st.write('state city ' + state_city_query)\n",
    "    city_select = st.selectbox('Choose city', state_city,key=22)\n",
    "    #st.write('city selected ' + city_select)\n",
    "    city_select =  \"\\'\" +city_select + \"\\'\"\n",
    "    if city_select != \"\" :\n",
    "        city_caterories_query = '''\n",
    "        SELECT distinct C.categories\n",
    "        FROM yelp_business as B INNER JOIN yelp_categories as C \n",
    "        ON B.business_id = C.business_id where B.city = {} order by C.categories limit 20;'''.format(city_select)\n",
    "        cursor.execute(city_caterories_query)\n",
    "        data = cursor.fetchall()\n",
    "        column_names = [\"categories\"]\n",
    "        city_caterories = pd.DataFrame(data,columns = column_names)\n",
    "        #st.write('caterogies ' + city_caterories)\n",
    "        city_category_select = st.selectbox('Choose category', city_caterories,key=23)\n",
    "        #st.write('category selected ' + city_category_select)\n",
    "        city_category_select =  \"\\'\" +city_category_select + \"\\'\"\n",
    "\n",
    "        if city_category_select !=\"\":\n",
    "            review_star_query = '''SELECT T.text, B.stars FROM yelp_business as B INNER JOIN yelp_categories as C\n",
    "ON B.business_id = C.business_id inner join yelp_tip as T ON B.business_id = T.business_id where C.categories = {} and B.city = {} order by T.text limit 200;  \n",
    "            '''.format(city_category_select,city_select)\n",
    "            cursor = conn.cursor()\n",
    "            cursor.execute(review_star_query)\n",
    "            data = cursor.fetchall()\n",
    "            column_names = [\"review\", \"stars\"]\n",
    "            city_caterories = pd.DataFrame(data,columns = column_names)\n",
    "            #st.table(city_caterories)\n",
    "                            \n",
    "            #wordcloud\n",
    "            if not city_caterories.empty:           \n",
    "                #wordcloud\n",
    "                list_review=[]\n",
    "                for i in city_caterories['review']:\n",
    "                    list_review.append(len(i))\n",
    "                city_caterories['text_length']=list_review\n",
    "\n",
    "                city_caterories['stars']=np.where(city_caterories['stars']>3,1,0)\n",
    "\n",
    "                positive=[]\n",
    "                negative=[]\n",
    "                positive_reviews=city_caterories[city_caterories['stars']==1]['review']\n",
    "                negative_reviews=city_caterories[city_caterories['stars']==0]['review']\n",
    "\n",
    "                positive_reviews.apply(extract_positive)\n",
    "                negative_reviews.apply(extract_negative)\n",
    "\n",
    "                pos_review_cloud=WordCloud(width=600,height=400).generate(\" \".join(positive_reviews))\n",
    "                if pos_review_cloud != \"\": \n",
    "                    fig, ax = plt.subplots(figsize = (10, 8),facecolor='k')\n",
    "                    ax.imshow(pos_review_cloud)\n",
    "                    plt.axis(\"off\")\n",
    "                    plt.tight_layout(pad=0)\n",
    "                    st.write('Positive Reviews Word Cloud ')\n",
    "                    st.pyplot(fig)\n",
    "\n",
    "\n",
    "                    #plt.figure(figsize=(10,8),facecolor='k')\n",
    "                    #plt.imshow(pos_review_cloud)\n",
    "                    #plt.axis('off')\n",
    "                    #plt.tight_layout(pad=0)\n",
    "                    #st.pyplot()\n",
    "                neg_review_cloud=WordCloud(width=600,height=400,background_color='white').generate(\" \".join(negative_reviews))\n",
    "                if neg_review_cloud !=\"\":\n",
    "                    plt.figure(figsize=(10,8),facecolor='k')\n",
    "                    fig2, ax = plt.subplots(figsize = (10, 8),facecolor='k')\n",
    "                    ax.imshow(neg_review_cloud)\n",
    "                    plt.axis(\"off\")\n",
    "                    plt.tight_layout(pad=0)       \n",
    "                    st.write('Negative Reviews Word Cloud ')\n",
    "                    st.pyplot(fig2)\n",
    "\n",
    "                    #plt.imshow(neg_review_cloud)\n",
    "                    #plt.axis('off')\n",
    "                    #plt.tight_layout(pad=0)\n",
    "                    #plt.show()\n"
   ]
  },
  {
   "cell_type": "code",
   "execution_count": 103,
   "id": "2b716136",
   "metadata": {},
   "outputs": [
    {
     "name": "stdout",
     "output_type": "stream",
     "text": [
      "Appending to app.py\n"
     ]
    }
   ],
   "source": [
    "%%writefile -a app.py\n",
    "'''\n",
    "# Business oppotunities\n",
    "We will list down categories which have only one business instance in the selected city\n",
    "\n",
    "\n",
    "'''\n",
    "#business opportunity\n",
    "#st.write(\"business opportunities\")\n",
    "#list of states and city with drop down for business map\n",
    "all_state_query = \"select distinct state from yelp_business\"\n",
    "cursor.execute(all_state_query)\n",
    "data = cursor.fetchall()\n",
    "column_names = [\"state\"]\n",
    "all_state = pd.DataFrame(data,columns = column_names)\n",
    "state_select = st.selectbox('Choose state', all_state,key=31)\n",
    "if state_select != \"\":\n",
    "    #st.write('You selected ' + state_select)\n",
    "    state_select =  \"\\'\" +state_select + \"\\'\" \n",
    "    state_city_query = \"select distinct city from yelp_business where state = {}\".format(state_select)\n",
    "    cursor.execute(state_city_query)\n",
    "    data = cursor.fetchall()\n",
    "    column_names = [\"city\"]\n",
    "    state_city = pd.DataFrame(data,columns = column_names)\n",
    "    #st.write('state city ' + state_city_query)\n",
    "    city_select = st.selectbox('Choose city', state_city,key=32)\n",
    "    #st.write('city selected ' + city_select)\n",
    "    city_select =  \"\\'\" +city_select + \"\\'\"\n",
    "    if city_select != \"\" :\n",
    "#         city_caterories_query = '''\n",
    "#         SELECT distinct C.categories\n",
    "#         FROM yelp_business as B INNER JOIN yelp_categories as C \n",
    "#         ON B.business_id = C.business_id where B.city = {} order by C.categories limit 20;'''.format(city_select)\n",
    "#         cursor.execute(city_caterories_query)\n",
    "#         data = cursor.fetchall()\n",
    "#         column_names = [\"categories\"]\n",
    "#         city_caterories = pd.DataFrame(data,columns = column_names)\n",
    "#         #st.write('caterogies ' + city_caterories)\n",
    "#         city_category_select = st.selectbox('Choose category', city_caterories,key=33)\n",
    "#         #st.write('category selected ' + city_category_select)\n",
    "#         city_category_select =  \"\\'\" +city_category_select + \"\\'\"\n",
    "\n",
    "#         if city_category_select !=\"\":\n",
    "        catogery_count1_query = \"SELECT cat, COUNT(cat) FROM (SELECT C.categories as cat FROM yelp_business as B INNER JOIN yelp_categories as C ON B.business_id = C.business_id where B.city = {}) as temp GROUP BY cat having count(cat) =1;\".format(city_select)\n",
    "        cursor = conn.cursor()\n",
    "        cursor.execute(catogery_count1_query)\n",
    "        data = cursor.fetchall()\n",
    "        column_names = [\"cat\",\"count\"]\n",
    "        catogery_count1 = pd.DataFrame(data,columns = column_names)\n",
    "        st.dataframe(catogery_count1[\"cat\"])\n",
    "\n"
   ]
  },
  {
   "cell_type": "code",
   "execution_count": 104,
   "id": "b06f4188",
   "metadata": {},
   "outputs": [
    {
     "name": "stdout",
     "output_type": "stream",
     "text": [
      "Appending to app.py\n"
     ]
    }
   ],
   "source": [
    "%%writefile -a app.py\n",
    "\n",
    "#SQL Query input \n",
    "query = st.text_input('Top 15 tips for a selected query')\n",
    "cursor = conn.cursor()\n",
    "cursor.execute(query)\n",
    "data = cursor.fetchall()\n",
    "result = pd.DataFrame(data)\n",
    "if not result.empty:\n",
    "    st.dataframe(result)\n",
    "\n"
   ]
  },
  {
   "cell_type": "code",
   "execution_count": 105,
   "id": "0802defe",
   "metadata": {
    "scrolled": true
   },
   "outputs": [
    {
     "name": "stdout",
     "output_type": "stream",
     "text": [
      "^C\n"
     ]
    }
   ],
   "source": [
    "!streamlit run app.py"
   ]
  },
  {
   "cell_type": "code",
   "execution_count": 106,
   "id": "1111f208",
   "metadata": {},
   "outputs": [],
   "source": [
    "# #query = \"\\\"insert into yelp_temp values {} ;\\\".format('a')\"\n",
    "# query =\"'INSERT INTO yelp_temp (name) VALUES(\"%s\")' %('a')\"\n",
    "# cursor = conn.cursor()\n",
    "# cursor.execute(query)"
   ]
  },
  {
   "cell_type": "code",
   "execution_count": null,
   "id": "83b2464d",
   "metadata": {},
   "outputs": [],
   "source": []
  },
  {
   "cell_type": "code",
   "execution_count": null,
   "id": "74e73c7d",
   "metadata": {},
   "outputs": [],
   "source": []
  },
  {
   "cell_type": "code",
   "execution_count": null,
   "id": "16f8ba87",
   "metadata": {},
   "outputs": [],
   "source": []
  }
 ],
 "metadata": {
  "kernelspec": {
   "display_name": "Python 3 (ipykernel)",
   "language": "python",
   "name": "python3"
  },
  "language_info": {
   "codemirror_mode": {
    "name": "ipython",
    "version": 3
   },
   "file_extension": ".py",
   "mimetype": "text/x-python",
   "name": "python",
   "nbconvert_exporter": "python",
   "pygments_lexer": "ipython3",
   "version": "3.9.13"
  },
  "vscode": {
   "interpreter": {
    "hash": "5cb29e7da7e4157d06337bb5f2b8fc929a77e168ed1fc18f13e3e61d52c49e57"
   }
  }
 },
 "nbformat": 4,
 "nbformat_minor": 5
}
